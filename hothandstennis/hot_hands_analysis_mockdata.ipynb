{
 "cells": [
  {
   "cell_type": "markdown",
   "id": "young-remove",
   "metadata": {},
   "source": [
    "## Here we will analyze tennis first-serve data. In this case, the mock data that we generated with mock_data_generator.ipynb and saved in formatted_mock_data.\n",
    "\n",
    "## We want to look at correlations between each service (if the first serve went in, what is the chance it goes in on the next point?).\n",
    "\n",
    "## For the mock data, we generated two data sets, one with a hot hands magnitude of 10% (if the first serve went out, there is a 10% higher chance that the next first serve will also miss). The other has no hot hands effect. I.e. the first serve's chance of going in is independent of whether or not the last serve went in (i.e., there is no correlation between subsequent serves)."
   ]
  },
  {
   "cell_type": "markdown",
   "id": "connected-blind",
   "metadata": {},
   "source": [
    "## First things first, lets generate our data structure class to hold everything."
   ]
  },
  {
   "cell_type": "code",
   "execution_count": 1,
   "id": "asian-investment",
   "metadata": {},
   "outputs": [],
   "source": [
    "import json\n",
    "\n",
    "class Data(object):\n",
    "    def __init__(self, serve_data=None):\n",
    "        self.serve_data = serve_data\n",
    "\n",
    "    def __getitem__(self, player_id):\n",
    "        return self.serve_data[player_id]\n",
    "\n",
    "    @property\n",
    "    def player_ids(self):\n",
    "        return list(self.serve_data.keys())\n",
    "\n",
    "    @classmethod\n",
    "    def load(cls, path):\n",
    "        with open(path, 'r') as file:\n",
    "            serve_data = json.load(file)\n",
    "        serve_data = {int(key): val for key, val in serve_data.items()} # get rid of the string keys.\n",
    "        return cls(serve_data)\n",
    "\n",
    "# first, lets load in the mock data:\n",
    "case0 = Data.load('formatted_mock_data/case0.json')\n",
    "case0p1 = Data.load('formatted_mock_data/case0p1.json')"
   ]
  },
  {
   "cell_type": "markdown",
   "id": "insured-throw",
   "metadata": {},
   "source": [
    "Now we can easily pull each set of data for each player as follows, (in the following example, player 0, both for case 0 (no hot/cold hands effect))"
   ]
  },
  {
   "cell_type": "code",
   "execution_count": 2,
   "id": "sticky-guard",
   "metadata": {},
   "outputs": [
    {
     "name": "stdout",
     "output_type": "stream",
     "text": [
      "[0, 1, 1, 0, 1, 1] player 0, game 5\n",
      "[0, 1, 0, 0, 0, 1] player 0, game 30 (note that we combined all matches sets and games into one long sequence of games.)\n"
     ]
    }
   ],
   "source": [
    "print(case0[0][5], 'player 0, game 5')\n",
    "print(case0[0][30], 'player 0, game 30 (note that we combined all matches sets and games into one long sequence of games.)')"
   ]
  },
  {
   "cell_type": "markdown",
   "id": "powered-heaven",
   "metadata": {},
   "source": [
    "## Now we want to compute 2 conditional probabilities, for each player:\n",
    "## P(G|LG) where G is the event that the current serve goes in, and LG is the event that the last serve went in also.\n",
    "## And P(G|LF) : the probability of this serve going in, given that the last serve was a fault.\n",
    "\n",
    "### In case0, We should recover that P(G|LG) = P(G|LF), because by design, in the mock data, we set this effect to 0.\n",
    "### in the case0p1, we should recover that P(G|LG) is 0.1 larger than P(G|LF). Because we set that the chance of going in was 10% higher if the last serve went in also.\n",
    "\n",
    "### A note on estimating conditional probabilities. To calculate P(F|LF) , we will want to select pairs of events where the first in the sequence (the last serve) was a fault -- then among those sequences, we want to count how many have the second item as a fault as well. Similarly for P(G|LF) = (number of good serves where the first serve is a fault) / (total number of sequences where the first in the sequence is a fault.)\n",
    "\n",
    "### So let's go ahead and write a function to estimate those probabilities for a give player. We are going to do this in a very explicit, pedagogical way, by sequence counting.\n",
    "#### E.g. [1, 1] is a set of two points where the first point had a good first serve, as well as the second. While, [1, 0] is one where the first point's first serve went in, and the second point's first serve was a fault. Therefore:\n",
    "#### P(G|LG) = number of [1,1] sequences / ( (number of [1, 0]  sequences + number of [1, 1] sequences)\n",
    "#### So sequence counting makes this conditional probability counting *very easy*."
   ]
  },
  {
   "cell_type": "code",
   "execution_count": 3,
   "id": "swedish-sensitivity",
   "metadata": {},
   "outputs": [],
   "source": [
    "from astropy.table import Table\n",
    "import numpy as np\n",
    "import numba as nb\n",
    "\n",
    "def list_to_tuples(a):\n",
    "    \"\"\"\n",
    "    convert a list e.g,  [1, 0, 1, 0, 1, 1] into [[1, 0], [0, 1], [1, 0], [0, 1], [1, 1]]\n",
    "    \"\"\"\n",
    "    return [list(i) for i in zip(a, a[1:])]\n",
    "\n",
    "def sequence_count(array_of_sequences):\n",
    "    num_1_1 = np.count_nonzero(np.all(array_of_sequences == [1, 1], axis=1))\n",
    "    num_1_0 = np.count_nonzero(np.all(array_of_sequences == [1, 0], axis=1))\n",
    "    num_0_1 = np.count_nonzero(np.all(array_of_sequences == [0, 1], axis=1))\n",
    "    num_0_0 = np.count_nonzero(np.all(array_of_sequences == [0, 0], axis=1))\n",
    "    return num_1_1, num_1_0, num_0_1, num_0_0\n",
    "\n",
    "@nb.jit # slight speedup by compiling this first.\n",
    "def sequence_count_fast(list_of_sequences):\n",
    "    \"\"\"\n",
    "    identical in function to sequence_count(), but about 20% faster. Although also much harder to read.\n",
    "    \"\"\"\n",
    "    num_1_1, num_1_0, num_0_1, num_0_0 = 0, 0, 0, 0\n",
    "    for seq in list_of_sequences:\n",
    "        if seq[0] == 1:\n",
    "            if seq[1] == 1:\n",
    "                num_1_1 += 1\n",
    "            else: # seq[1] is 0\n",
    "                num_1_0 += 1\n",
    "        else: # seq[0] is 0\n",
    "            if seq[1] == 1:\n",
    "                num_0_1 += 1\n",
    "            else: # seq[1] is 0\n",
    "                num_0_0 += 1\n",
    "    return num_1_1, num_1_0, num_0_1, num_0_0\n",
    "\n",
    "def estimate_conditional_probability(player_serve_data):\n",
    "    all_tuple_sequences = []\n",
    "    for game in player_serve_data:\n",
    "        all_tuple_sequences.extend(list_to_tuples(game))\n",
    "    num_1_1, num_1_0, num_0_1, num_0_0 = sequence_count(np.array(all_tuple_sequences))\n",
    "    # convert the short hand sequence notation to human readable variables\n",
    "    num_good_with_good_last_serve = num_1_1\n",
    "    num_good_with_bad_last_serve = num_0_1\n",
    "    num_bad_with_bad_last_serve = num_0_0\n",
    "    num_bad_with_good_last_serve = num_1_0\n",
    "    total_lf = num_0_0 + num_0_1  # total bad serves\n",
    "    total_lg = num_1_1 + num_1_0  # total good serves\n",
    "    total_serves = total_lf + total_lg\n",
    "    #\n",
    "    # calculate the conditional probabilities from the counts.\n",
    "    pglg = num_good_with_good_last_serve / total_lg\n",
    "    pflg = num_bad_with_good_last_serve / total_lg\n",
    "    pglf = num_good_with_bad_last_serve / total_lf\n",
    "    pflf = num_bad_with_bad_last_serve / total_lf\n",
    "    #print(pglg, pglf)\n",
    "    pg = (num_good_with_good_last_serve + num_good_with_bad_last_serve)/ total_serves\n",
    "    pf = (num_bad_with_bad_last_serve + num_bad_with_good_last_serve)/ total_serves\n",
    "    # calculate the errors from simple Poisson counting statistics.\n",
    "    e_pglg = np.sqrt(num_good_with_good_last_serve) / total_lg\n",
    "    e_pflg = np.sqrt(num_bad_with_good_last_serve) / total_lg\n",
    "    e_pglf = np.sqrt(num_good_with_bad_last_serve) / total_lf\n",
    "    e_pflf = np.sqrt(num_bad_with_bad_last_serve) / total_lf\n",
    "    e_pg = np.sqrt(num_good_with_good_last_serve + num_good_with_bad_last_serve)/ total_serves\n",
    "    e_pf = np.sqrt(num_bad_with_bad_last_serve + num_bad_with_good_last_serve)/ total_serves \n",
    "    return {'pglg': pglg, 'pglf': pglf, 'pflg': pflg, 'pflf': pflf, 'pg': pg, 'pf': pf,\n",
    "            'e_pglg': e_pglg, 'e_pglf': e_pglf, 'e_pflg': e_pflg, 'e_pflf': e_pflf, 'e_pg': e_pg, 'e_pf': e_pf}"
   ]
  },
  {
   "cell_type": "code",
   "execution_count": 4,
   "id": "dangerous-pierre",
   "metadata": {},
   "outputs": [
    {
     "name": "stdout",
     "output_type": "stream",
     "text": [
      "1.0\n",
      "1.0\n"
     ]
    }
   ],
   "source": [
    "# Check that probabilities sum to 1.\n",
    "result = estimate_conditional_probability(case0[0])\n",
    "print(result['pg'] + result['pf'])\n",
    "result = estimate_conditional_probability(case0p1[0])\n",
    "print(result['pg'] + result['pf'])"
   ]
  },
  {
   "cell_type": "markdown",
   "id": "understood-there",
   "metadata": {},
   "source": [
    "Quick sanity check (this would be e.g. a unit test in an actual code base, but for this \n",
    "analysis we will just run this here)\n",
    "We want to check that the conditional probabilities add up as expected. "
   ]
  },
  {
   "cell_type": "code",
   "execution_count": 5,
   "id": "fitted-infrastructure",
   "metadata": {},
   "outputs": [
    {
     "name": "stdout",
     "output_type": "stream",
     "text": [
      "probability of having a faulted serve, from two different estimates:\n",
      "0.4420559439708124\n",
      "0.4422446629462308\n",
      "probability of having a good serve, from two different estimates:\n",
      "0.5579440560291876\n",
      "0.5577553370537691\n",
      "indeed, these two agree within 0.00018871897541850036. The counting error is: 0.005, and so these are consistent with each other.\n",
      "1.0 Check that P(G) + P(F) = 1.0\n",
      "check that Bayes theorem is obeyed: P(F|LG) = P(G|LF)*P(F)/P(G)\n",
      "0.3937390473155966 0.3940774017209804\n",
      "0.4970071827613727 0.49658045296397674\n",
      "And indeed Bayes theorem is obeyed, within the errors.\n"
     ]
    }
   ],
   "source": [
    "result = estimate_conditional_probability(case0p1[0])\n",
    "print('probability of having a faulted serve, from two different estimates:')\n",
    "print(result['pf'] * result['pflf'] + result['pg'] * result['pflg'])\n",
    "print(result['pf'])\n",
    "print('probability of having a good serve, from two different estimates:')\n",
    "estimate = result['pf'] * result['pglf'] + result['pg'] * result['pglg']\n",
    "print(estimate)\n",
    "print(result['pg'])\n",
    "print(f'indeed, these two agree within {np.abs(estimate - result[\"pg\"])}. The counting error is: {np.round(result[\"e_pg\"], 4)}, and so these are consistent with each other.')\n",
    "print(result['pg'] + result['pf'], 'Check that P(G) + P(F) = 1.0')\n",
    "print('check that Bayes theorem is obeyed: P(F|LG) = P(G|LF)*P(F)/P(G)')\n",
    "print(result['pflg'], result['pglf'] * result['pf']/result['pg'])\n",
    "print(result['pglf'], result['pflg'] * result['pg']/result['pf'])\n",
    "print('And indeed Bayes theorem is obeyed, within the errors.')"
   ]
  },
  {
   "cell_type": "markdown",
   "id": "applied-expansion",
   "metadata": {},
   "source": [
    "We also want to check that in the no hot hands case, that P(F) = P(F|LF) = P(F|LG) and that P(G) = P(G|LG) = P(G|LF), because subsequent serves have no impact on each other in the hot hands case."
   ]
  },
  {
   "cell_type": "code",
   "execution_count": 6,
   "id": "ruled-probe",
   "metadata": {},
   "outputs": [
    {
     "name": "stdout",
     "output_type": "stream",
     "text": [
      "0.4941978917530339 0.4963764874295428 0.4920620998158056\n",
      "0.505802108246966 0.5036235125704572 0.5079379001841944\n",
      "They all are equal for the null case (within the errors)!\n",
      "So we can be confident that estimate_conditional_probability() is working properly\n"
     ]
    }
   ],
   "source": [
    "result = estimate_conditional_probability(case0[0])\n",
    "print(result['pf'], result['pflf'], result['pflg'])\n",
    "print(result['pg'], result['pglf'], result['pglg'])\n",
    "print('They all are equal for the null case (within the errors)!')\n",
    "print('So we can be confident that estimate_conditional_probability() is working properly')"
   ]
  },
  {
   "cell_type": "markdown",
   "id": "dietary-browse",
   "metadata": {},
   "source": [
    "# Now we estimate the conditional probabilities for every player."
   ]
  },
  {
   "cell_type": "code",
   "execution_count": 7,
   "id": "canadian-rocket",
   "metadata": {},
   "outputs": [],
   "source": [
    "from astropy.table import vstack\n",
    "\n",
    "def estimate_conditional_probabilities_all_players(case: Data) -> Table:\n",
    "    statistics = []\n",
    "    for player_id in case.player_ids:\n",
    "        result = estimate_conditional_probability(case[player_id])\n",
    "        result['player_id'] = player_id\n",
    "        statistics.append(result)\n",
    "    return vstack(statistics)\n",
    "\n",
    "case0_statistics = estimate_conditional_probabilities_all_players(case0)\n",
    "case0p1_statistics = estimate_conditional_probabilities_all_players(case0p1)"
   ]
  },
  {
   "cell_type": "markdown",
   "id": "brazilian-chicken",
   "metadata": {},
   "source": [
    "## Now lets plot P(G|LG) and P(G|LF) for every player."
   ]
  },
  {
   "cell_type": "code",
   "execution_count": 8,
   "id": "varying-facility",
   "metadata": {},
   "outputs": [
    {
     "data": {
      "image/png": "[encoded data removed]",
      "text/plain": [
       "<Figure size 432x288 with 2 Axes>"
      ]
     },
     "metadata": {
      "needs_background": "light"
     },
     "output_type": "display_data"
    }
   ],
   "source": [
    "import matplotlib.pyplot as plt\n",
    "\n",
    "fig, axes = plt.subplots(1, 2)\n",
    "for i, case, label in zip([0, 1], [case0_statistics, case0p1_statistics], ['No hot hands effect', '10% hot hands']):\n",
    "    axes[i].set_title(label)\n",
    "    axes[i].errorbar(case['player_id'], case['pglf'], yerr=case['e_pglf'], marker='o', \n",
    "                     markersize=3, label=\"P(G|LF)\", ls='none')\n",
    "    axes[i].errorbar(case['player_id'], case['pglg'], yerr=case['e_pglg'], marker='o', \n",
    "                     markersize=3, label=\"P(G|LG)\", ls='none')\n",
    "    axes[i].set_ylabel('Probability')\n",
    "    axes[i].set_xlabel('player ID number')\n",
    "\n",
    "axes[1].legend(loc='best')\n",
    "plt.tight_layout()\n",
    "plt.show()"
   ]
  },
  {
   "cell_type": "markdown",
   "id": "moderate-collective",
   "metadata": {},
   "source": [
    "## The right hand panel shows a separation of about 10% -- exactly what we coded in the mock data! And, using the error bars calculated from Poisson counting statistics (because after all, we are *counting* serves here), the separation is highly statistically significant. Let's make a simple plot of hot hands magntiude (so the orange minus the blue) below."
   ]
  },
  {
   "cell_type": "code",
   "execution_count": 9,
   "id": "greater-handling",
   "metadata": {},
   "outputs": [
    {
     "name": "stdout",
     "output_type": "stream",
     "text": [
      "0.0011886092319800413\n",
      "0.1125587339055685\n"
     ]
    },
    {
     "data": {
      "image/png": "[encoded data removed]",
      "text/plain": [
       "<Figure size 432x288 with 2 Axes>"
      ]
     },
     "metadata": {
      "needs_background": "light"
     },
     "output_type": "display_data"
    }
   ],
   "source": [
    "fig, axes = plt.subplots(1, 2)\n",
    "for i, case, label in zip([0, 1], [case0_statistics, case0p1_statistics], ['data with \\n No hot hands effect', 'data with \\n 10% hot hands']):\n",
    "    axes[i].set_title(label)\n",
    "    axes[i].errorbar(case['player_id'], 100*(case['pglg'] - case['pglf']), \n",
    "                     yerr=100*np.sqrt(case['e_pglf']**2 + case['e_pglg']**2), # have to add the errors in quadrature.\n",
    "                                  marker='o', \n",
    "                     markersize=3, ls='none')\n",
    "    axes[i].set_ylabel('Hot hands magnitude (%)')\n",
    "    axes[i].set_xlabel('player ID number')\n",
    "    print(np.mean(case['pg'] - case['pf']))\n",
    "    \n",
    "plt.tight_layout()\n",
    "plt.show()"
   ]
  },
  {
   "cell_type": "markdown",
   "id": "fabulous-organ",
   "metadata": {},
   "source": [
    "## OK so per player, we have single estimates that seem to indicate that there is a hot/cold hands effect in the mock data, exactly at the levels injected. The left hand panel shows an average value bouncing around 0%, and the error bars seem representative of the data (which is good), while the right hand panel shows the effect at 10% -- exactly how we set it up to be.\n",
    "\n",
    "## It is important to note here that even in the null case (0 hot hands effect, left panel), for some players, our data analysis infers a slight hot-hand magnitude. E.g. a 2% +- 1% effect. This is the importance of error bars! We can say that that effect is a 2-sigma event. We expect 2-sigma events to occur about 5 times out of 100, or roughly one every 20 draws. I have 50 players in my sample, so I should see about 2 players where I \"incorrectly\" infer a 2% hot hands effect just from statistical fluctuations alone. And indeed I count 2!\n",
    "\n",
    "\n",
    "## Moreover, from our estimates of the errors on our probability estimates, we know that the hot hand magnitude on the right-hand side is statistically significant. \n",
    "## With error bars, we can say that player 0 has a hot hands effect of 0.1 +- 0.01 . So for that player, the effect is 10 sigma significant (10 standard deviations from 0). \n",
    "\n",
    "## 10 sigma significance is a whopping confirmation of the effect. See https://en.wikipedia.org/wiki/Standard_deviation \n",
    "## Even at just 7 sigma, this means that if we repeated this analysis on a new Tennis tournament and new players, with new data, we would need to do it over *390 billion* different times until we observed a 7 sigma separation across all players. And we are at 10 sigma.\n",
    "\n",
    "## This is the kind of the strong confirmation we want in the real data. But... this all hinges on whether we trust our error bars! If our error estimate is off by a factor of 10, then this result would be insignificant.\n",
    "\n",
    "## The scatter in the data points is of the order the error bars so that is one validation of our error estimate, but we would like another. For that, we turn to the actual posterior, this is P(H|X) = probability of hot hands magnitude =X as a function of X\n",
    "\n",
    "## We want an actual posterior (probability as a function of hot hands magnitude) to get another estimate on how significant this hot hands magnitude is. We are going to use something called bootstrap resampling to estimate P(H|X). This is a way to estimate posteriors from a single set of data, provided that dataset is large enough. And ours certainly is (we have tens of thousands of samples (serves) per player).\n",
    "\n",
    "### In bootstrap resampling, you can typically get away with using 10% of the total number of samples you have. So we can bootstrap resample about 1000 times, because our data set for each player is roughly 10,000 samples large."
   ]
  },
  {
   "cell_type": "code",
   "execution_count": 10,
   "id": "royal-faculty",
   "metadata": {},
   "outputs": [],
   "source": [
    "def boostrap_estimate_conditional_probabilities(player_serve_data, num_resamples=1000):\n",
    "    num_sets = len(player_serve_data)\n",
    "    indices = np.arange(num_sets)\n",
    "    statistics = []\n",
    "    for i in range(num_resamples):\n",
    "        this_sample = np.random.choice(indices, size=len(indices), replace=True)\n",
    "        player_serve_data_sample = [player_serve_data[i] for i in this_sample]\n",
    "        result = estimate_conditional_probability(player_serve_data_sample)\n",
    "        statistics.append(result)\n",
    "    return vstack(statistics)\n",
    "    # now we have resampled posterior statistics, for this player, for every conditional probability."
   ]
  },
  {
   "cell_type": "markdown",
   "id": "stuck-pleasure",
   "metadata": {},
   "source": [
    "## Let's show our posterior estimate for 1 player, in the no-hot-hands case."
   ]
  },
  {
   "cell_type": "code",
   "execution_count": 11,
   "id": "studied-reference",
   "metadata": {},
   "outputs": [],
   "source": [
    "resampled_stats = boostrap_estimate_conditional_probabilities(case0p1[0], num_resamples=1000)"
   ]
  },
  {
   "cell_type": "code",
   "execution_count": 12,
   "id": "productive-familiar",
   "metadata": {},
   "outputs": [
    {
     "data": {
      "image/png": "[encoded data removed]",
      "text/plain": [
       "<Figure size 432x288 with 1 Axes>"
      ]
     },
     "metadata": {
      "needs_background": "light"
     },
     "output_type": "display_data"
    }
   ],
   "source": [
    "plt.figure()\n",
    "counts = plt.hist(100*(resampled_stats['pglg'] - resampled_stats['pglf']), bins=30, density=False, label='bootstrap PDF')[0]\n",
    "formal_estimate = case0p1_statistics[case0p1_statistics['player_id'] == 0]\n",
    "plt.errorbar(100*(formal_estimate['pglg'] - formal_estimate['pglf']), np.max(counts)//2, \n",
    "             xerr=100*np.sqrt(formal_estimate['e_pglg']**2+ formal_estimate['e_pglf']**2), \n",
    "             ls='none', marker='o', markersize=10, lw=8, label='single estimate + error')\n",
    "plt.legend(loc='best')\n",
    "plt.xlabel('Hot hands Magnitude (%)')\n",
    "plt.ylabel('Counts in each bin')\n",
    "plt.show()"
   ]
  },
  {
   "cell_type": "markdown",
   "id": "alleged-values",
   "metadata": {},
   "source": [
    "## This is excellent! It is great that the width of the bootstrap PDF is roughly equal to the errorbar of our, old, single estimate (which we calculated from standard error propagation). That gives us a lot of confidence in this mock data analysis, and indeed that we were able to recover the 10% hot hands effect with overwhelming 10 sigma confidence."
   ]
  },
  {
   "cell_type": "markdown",
   "id": "ecological-friendship",
   "metadata": {},
   "source": [
    "## Now before we move onto the real data, and the notebook hot_hands_analysis_realdata.ipynb , here is one last note:\n",
    "\n",
    "## In the real data, player first serve percentage will vary. I've generated a separate set of data, just by modifying the mock_data_generator notebook, with first serve percentages that vary player-by-player. You'll see that the plot of P(G|LG) and P(G|LF) vs player is now complicated and not clear -- but that P(G|LG) - P(G|LF) is exactly the same.\n",
    "\n",
    "## So in the real analysis notebook, we will lean on P(G|LG) - P(G|LF)"
   ]
  },
  {
   "cell_type": "code",
   "execution_count": 13,
   "id": "arctic-clause",
   "metadata": {},
   "outputs": [],
   "source": [
    "fluctuating_percentages = Data.load('formatted_mock_data/case0p1_fluctuating_first_serve_percentages.json')\n",
    "fpstats = estimate_conditional_probabilities_all_players(fluctuating_percentages)"
   ]
  },
  {
   "cell_type": "code",
   "execution_count": 14,
   "id": "vocational-narrative",
   "metadata": {},
   "outputs": [
    {
     "name": "stderr",
     "output_type": "stream",
     "text": [
      "No handles with labels found to put in legend.\n"
     ]
    },
    {
     "data": {
      "image/png": "[encoded data removed]",
      "text/plain": [
       "<Figure size 432x288 with 2 Axes>"
      ]
     },
     "metadata": {
      "needs_background": "light"
     },
     "output_type": "display_data"
    }
   ],
   "source": [
    "fig, axes = plt.subplots(1, 2)\n",
    "axes[0].set_title('P(G|LF) and P(G|LG) separately}')\n",
    "axes[0].errorbar(fpstats['player_id'], fpstats['pglf'], yerr=fpstats['e_pglf'], marker='o', \n",
    "                 markersize=3, label=\"P(G|LF)\", ls='none')\n",
    "axes[0].errorbar(fpstats['player_id'], fpstats['pglg'], yerr=fpstats['e_pglg'], marker='o', \n",
    "                 markersize=3, label=\"P(G|LG)\", ls='none')\n",
    "axes[0].set_ylabel('Probability')\n",
    "axes[0].legend(loc='best')\n",
    "axes[0].set_xlabel('player ID number')\n",
    "\n",
    "axes[1].set_title('P(G|LG) - P(G|LF)')\n",
    "axes[1].errorbar(fpstats['player_id'], 100*(fpstats['pglg'] - fpstats['pglf']), \n",
    "                 yerr=100*np.sqrt(fpstats['e_pglf']**2 + fpstats['e_pglg']**2), # have to add the errors in quadrature.\n",
    "                              marker='o', \n",
    "                 markersize=3, ls='none')\n",
    "axes[1].set_ylabel('Hot hands magnitude (%)')\n",
    "axes[1].legend(loc='best')\n",
    "axes[1].set_xlabel('player ID number')\n",
    "    \n",
    "plt.tight_layout()\n",
    "plt.show()"
   ]
  },
  {
   "cell_type": "markdown",
   "id": "executive-gallery",
   "metadata": {},
   "source": [
    "## Now onto the notebook hot_hands_analysis_realdata.ipynb"
   ]
  },
  {
   "cell_type": "code",
   "execution_count": null,
   "id": "computational-transport",
   "metadata": {},
   "outputs": [],
   "source": []
  }
 ],
 "metadata": {
  "kernelspec": {
   "display_name": "Python 3",
   "language": "python",
   "name": "python3"
  },
  "language_info": {
   "codemirror_mode": {
    "name": "ipython",
    "version": 3
   },
   "file_extension": ".py",
   "mimetype": "text/x-python",
   "name": "python",
   "nbconvert_exporter": "python",
   "pygments_lexer": "ipython3",
   "version": "3.8.10"
  }
 },
 "nbformat": 4,
 "nbformat_minor": 5
}
