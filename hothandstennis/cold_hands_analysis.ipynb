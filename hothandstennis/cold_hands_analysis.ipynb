{
 "cells": [
  {
   "cell_type": "markdown",
   "id": "judicial-oriental",
   "metadata": {},
   "source": [
    "## Want to arrange the cold hands estimate percentage vs player. If we order it by decreasing percentage, does anything obvious pop out (like is cold hands magnitude inversely correlated with player rank? -- could make sense because \"better\" players get in their heads less.)"
   ]
  },
  {
   "cell_type": "code",
   "execution_count": null,
   "id": "ordinary-merchandise",
   "metadata": {},
   "outputs": [],
   "source": []
  }
 ],
 "metadata": {
  "kernelspec": {
   "display_name": "Python 3",
   "language": "python",
   "name": "python3"
  },
  "language_info": {
   "codemirror_mode": {
    "name": "ipython",
    "version": 3
   },
   "file_extension": ".py",
   "mimetype": "text/x-python",
   "name": "python",
   "nbconvert_exporter": "python",
   "pygments_lexer": "ipython3",
   "version": "3.8.10"
  }
 },
 "nbformat": 4,
 "nbformat_minor": 5
}
