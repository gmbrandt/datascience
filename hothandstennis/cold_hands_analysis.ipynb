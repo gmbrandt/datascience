{
 "cells": [
  {
   "cell_type": "markdown",
   "id": "judicial-oriental",
   "metadata": {},
   "source": [
    "## Notes to myself: to delete later: Want to arrange the cold hands estimate percentage vs player. If we order it by decreasing percentage, does anything obvious pop out (like is cold hands magnitude inversely correlated with player rank? -- could make sense because \"better\" players get in their heads less.)"
   ]
  },
  {
   "cell_type": "markdown",
   "id": "young-remove",
   "metadata": {},
   "source": [
    "## Here we will analyze the tennis data, either the real deal in formatted_data/ , or the mock data that we generated with mock_data_generator.ipynb and saved in formatted_mock_data.\n",
    "\n",
    "## We want to look at correlations between each service (if the first serve went in, what is the chance it goes in on the next point?).\n",
    "\n",
    "## For the mock data, we generated two data sets, one with a cold hands magnitude of 10% (if the first serve went out, there is a 10% higher chance that the next first serve will also miss)."
   ]
  },
  {
   "cell_type": "markdown",
   "id": "connected-blind",
   "metadata": {},
   "source": [
    "## First things first, lets generate our data structure class to hold everything."
   ]
  },
  {
   "cell_type": "code",
   "execution_count": 26,
   "id": "asian-investment",
   "metadata": {},
   "outputs": [],
   "source": [
    "import json\n",
    "\n",
    "class Data(object):\n",
    "    def __init__(self, serve_data=None):\n",
    "        self.serve_data = serve_data\n",
    "\n",
    "    def __getitem__(self, player_id):\n",
    "        return self.serve_data[player_id]\n",
    "\n",
    "    @property\n",
    "    def player_ids(self):\n",
    "        return list(self.serve_data.keys())\n",
    "\n",
    "    @classmethod\n",
    "    def load(cls, path):\n",
    "        with open(path, 'r') as file:\n",
    "            serve_data = json.load(file)\n",
    "        serve_data = {int(key): val for key, val in serve_data.items()} # get rid of the string keys.\n",
    "        return cls(serve_data)\n",
    "\n",
    "# first, lets load in the mock data:\n",
    "case0 = Data.load('formatted_mock_data/cold_hands0.json')\n",
    "case0p1 = Data.load('formatted_mock_data/cold_hands0p1.json')"
   ]
  },
  {
   "cell_type": "markdown",
   "id": "insured-throw",
   "metadata": {},
   "source": [
    "Now we can easily pull each set of data for each player as follows, (in the following example, player 0, both for case 0 (no hot/cold hands effect))"
   ]
  },
  {
   "cell_type": "code",
   "execution_count": 25,
   "id": "sticky-guard",
   "metadata": {},
   "outputs": [
    {
     "name": "stdout",
     "output_type": "stream",
     "text": [
      "[1, 1, 0, 0, 1, 1] player 0, set 5\n",
      "[0, 0, 1, 0, 1, 0] player 0, set 30 (note that we combined all matches sets)\n"
     ]
    }
   ],
   "source": [
    "print(case0[0][5], 'player 0, set 5')\n",
    "print(case0[0][30], 'player 0, set 30 (note that we combined all matches sets)')"
   ]
  },
  {
   "cell_type": "markdown",
   "id": "powered-heaven",
   "metadata": {},
   "source": [
    "## Now we want to compute 2 conditional probabilities, for each player:\n",
    "## P(F|LF) where F is missing that serve and LF is a fault on the last service (LF for last-fault). \n",
    "## And P(G|LF) : the probability of getting a fault on this serve, given that the last serve was a fault\n",
    "\n",
    "### In case0, We should recover that P(F|LF) = P(G|LF), because by design, in the mock data, we set this effect to 0.\n",
    "### in the case0p1, we should recover that P(F|LF) is 0.1 larger than P(G|LF). Because we set that the chance of going in was 10% higher if the last serve went in also.\n",
    "\n",
    "### So let's go ahead and write a function to estimate those probabilities for a give player."
   ]
  },
  {
   "cell_type": "code",
   "execution_count": 83,
   "id": "dangerous-pierre",
   "metadata": {},
   "outputs": [
    {
     "name": "stdout",
     "output_type": "stream",
     "text": [
      "(0.3609967497291441, 0.19869989165763813, 0.23943661971830985, 0.20086673889490791)\n",
      "(0.3486457204767064, 0.176273022751896, 0.2210184182015168, 0.2540628385698808)\n"
     ]
    }
   ],
   "source": [
    "from astropy.table import Table\n",
    "import numpy as np\n",
    "\n",
    "def estimate_conditional_probability(player_serve_data):\n",
    "    # there is a nuance here that we havent taken into account. pglg is simply more likely, because\n",
    "    # the sequence [1, 1] is more likely than the sequence [1, 0] because all these players have\n",
    "    # a higher chance of making a shot \n",
    "    num_good_with_good_last_serve = 0\n",
    "    num_good_with_bad_last_serve = 0\n",
    "    num_bad_with_bad_last_serve = 0\n",
    "    num_bad_with_good_last_serve = 0\n",
    "    total_serves = 0\n",
    "    total_lg = 0\n",
    "    total_lf = 0\n",
    "    for game in player_serve_data:\n",
    "        for i in range(1, len(game)):\n",
    "            total_serves += 1\n",
    "            if game[i-1] == 1:\n",
    "                total_lg += 1\n",
    "                if game[i] == 1:\n",
    "                    num_good_with_good_last_serve += 1\n",
    "                if game[i] == 0:\n",
    "                    num_bad_with_good_last_serve += 1\n",
    "            if game[i-1] == 0:\n",
    "                total_lf += 1\n",
    "                if game[1] == 1:\n",
    "                    num_good_with_bad_last_serve += 1\n",
    "                if game[1] == 0:\n",
    "                    num_bad_with_bad_last_serve += 1\n",
    "    pglg = num_good_with_good_last_serve / total_lg\n",
    "    pglf = num_good_with_bad_last_serve / total_lf\n",
    "    pflg = num_bad_with_good_last_serve / total_lg\n",
    "    pflf = num_bad_with_bad_last_serve / total_lf\n",
    "    pg_avg = (num_good_with_good_last_serve + num_good_with_bad_last_serve)/total_serves\n",
    "    pf_avg = (num_bad_with_good_last_serve + num_bad_with_bad_last_serve)/total_serves\n",
    "    return pglg, pglf, pflg, pflf\n",
    "\n",
    "result = estimate_conditional_probability(case0[0])\n",
    "print(result)\n",
    "result = estimate_conditional_probability(case0p1[0])\n",
    "print(result)"
   ]
  },
  {
   "cell_type": "markdown",
   "id": "dietary-browse",
   "metadata": {},
   "source": [
    "# Now we want to estimate this for every player."
   ]
  },
  {
   "cell_type": "code",
   "execution_count": 84,
   "id": "canadian-rocket",
   "metadata": {},
   "outputs": [],
   "source": [
    "def estimate_conditional_probabilities_all_players(case: Data) -> Table:\n",
    "    statistics = {'player_id': [], 'pglf': [], 'pglg': [], 'pflg': [], 'pflf': []}\n",
    "    for player_id in case.player_ids:\n",
    "        pglg, pglf, pflg, pflf = estimate_conditional_probability(case[player_id])\n",
    "        statistics['pglf'].append(pglf)\n",
    "        statistics['pglg'].append(pglg)\n",
    "        statistics['pflg'].append(pflg)\n",
    "        statistics['pflf'].append(pflf)\n",
    "        statistics['player_id'].append(player_id)\n",
    "    return Table(statistics)\n",
    "\n",
    "case0_statistics = estimate_conditional_probabilities_all_players(case0)\n",
    "case0p1_statistics = estimate_conditional_probabilities_all_players(case0p1)"
   ]
  },
  {
   "cell_type": "markdown",
   "id": "brazilian-chicken",
   "metadata": {},
   "source": [
    "## And then plot the difference between P(G|LG) and P(G|LF) for every player, which by design was defined as a constant (but may not be the case with real data). Case 0 should have this value centered around 0, and case 0p1 should have this centered around 0.1"
   ]
  },
  {
   "cell_type": "code",
   "execution_count": 85,
   "id": "varying-facility",
   "metadata": {},
   "outputs": [
    {
     "name": "stdout",
     "output_type": "stream",
     "text": [
      "0.17648901254857072\n",
      "-0.027418232815966656\n",
      "0.15908331286739275\n",
      "0.04091619386975096\n"
     ]
    },
    {
     "data": {
      "image/png": "[encoded data removed]",
      "text/plain": [
       "<Figure size 432x288 with 2 Axes>"
      ]
     },
     "metadata": {
      "needs_background": "light"
     },
     "output_type": "display_data"
    }
   ],
   "source": [
    "import matplotlib.pyplot as plt\n",
    "\n",
    "fig, axes = plt.subplots(1, 2)\n",
    "for i, case in enumerate([case0_statistics, case0p1_statistics]):\n",
    "    axes[i].scatter(case['player_id'], case['pglg'] - case['pglf'])\n",
    "    print(np.mean(case['pglg'] - case['pglf']))\n",
    "    print(np.mean(case['pflf'] - case['pflg']))\n",
    "plt.show()"
   ]
  },
  {
   "cell_type": "markdown",
   "id": "fabulous-organ",
   "metadata": {},
   "source": [
    "## OK so per player, we have single estimates that seem to indicate that there is a hot/cold hands effect in the mock data. Single values like 0.11, 0.9, ... etc.. That is good, but we can't really say anything yet. We dont have error bars on the points! So we really want an estimate of how well we know those single values. We want a posterior --> something that tells us: player 0 has a hot hands effect of 0.1 +- 0.02 . Then we can say that the hot hands effect exists with 5 sigma confidence (for that player).\n",
    "\n",
    "## To get a confidence interval, we are going to use something called bootstrap resampling. This is a way to estimate posteriors from a single set of data, provided that dataset is large enough. Because each player has about "
   ]
  },
  {
   "cell_type": "code",
   "execution_count": null,
   "id": "royal-faculty",
   "metadata": {},
   "outputs": [],
   "source": [
    "def boostrap_estimate_conditional_probabilities(player_serve_data, num_resamples=1000)\n",
    "    num_sets = len(player_serve_data)\n",
    "    indices = np.arange(num_sets)\n",
    "    pglg_samples, pglf_samples = [], []\n",
    "    for i in range(num_resamples):\n",
    "        this_sample = np.random.choice(indices, size=len(indices), replace=True)\n",
    "        player_serve_data_sample = [player_serve_data[i] for i in this_sample]\n",
    "        pglg, pglf = estimate_conditional_probability(player_serve_data_sample)\n",
    "        pglg_samples.append(pglg)\n",
    "        pglf_samples.append(pglf)"
   ]
  }
 ],
 "metadata": {
  "kernelspec": {
   "display_name": "Python 3",
   "language": "python",
   "name": "python3"
  },
  "language_info": {
   "codemirror_mode": {
    "name": "ipython",
    "version": 3
   },
   "file_extension": ".py",
   "mimetype": "text/x-python",
   "name": "python",
   "nbconvert_exporter": "python",
   "pygments_lexer": "ipython3",
   "version": "3.8.10"
  }
 },
 "nbformat": 4,
 "nbformat_minor": 5
}
