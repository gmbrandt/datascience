{
 "cells": [
  {
   "cell_type": "markdown",
   "id": "young-remove",
   "metadata": {},
   "source": [
    "## Here we will analyze the tennis data, either the real deal in formatted_data/ , or the mock data that we generated with mock_data_generator.ipynb and saved in formatted_mock_data.\n",
    "\n",
    "## We want to look at correlations between each service (if the first serve went in, what is the chance it goes in on the next point?).\n",
    "\n",
    "## For the mock data, we generated two data sets, one with a cold hands magnitude of 10% (if the first serve went out, there is a 10% higher chance that the next first serve will also miss)."
   ]
  },
  {
   "cell_type": "markdown",
   "id": "connected-blind",
   "metadata": {},
   "source": [
    "## First things first, lets generate our data structure class to hold everything."
   ]
  },
  {
   "cell_type": "code",
   "execution_count": 1,
   "id": "asian-investment",
   "metadata": {},
   "outputs": [],
   "source": [
    "import json\n",
    "\n",
    "class Data(object):\n",
    "    def __init__(self, serve_data=None):\n",
    "        self.serve_data = serve_data\n",
    "\n",
    "    def __getitem__(self, player_id):\n",
    "        return self.serve_data[player_id]\n",
    "\n",
    "    @property\n",
    "    def player_ids(self):\n",
    "        return list(self.serve_data.keys())\n",
    "\n",
    "    @classmethod\n",
    "    def load(cls, path):\n",
    "        with open(path, 'r') as file:\n",
    "            serve_data = json.load(file)\n",
    "        serve_data = {int(key): val for key, val in serve_data.items()} # get rid of the string keys.\n",
    "        return cls(serve_data)\n",
    "\n",
    "# first, lets load in the mock data:\n",
    "case0 = Data.load('formatted_mock_data/cold_hands0.json')\n",
    "case0p1 = Data.load('formatted_mock_data/cold_hands0p1.json')"
   ]
  },
  {
   "cell_type": "markdown",
   "id": "insured-throw",
   "metadata": {},
   "source": [
    "Now we can easily pull each set of data for each player as follows, (in the following example, player 0, both for case 0 (no hot/cold hands effect))"
   ]
  },
  {
   "cell_type": "code",
   "execution_count": 2,
   "id": "sticky-guard",
   "metadata": {},
   "outputs": [
    {
     "name": "stdout",
     "output_type": "stream",
     "text": [
      "[1, 1, 0, 0, 1, 1] player 0, set 5\n",
      "[0, 0, 1, 0, 1, 0] player 0, set 30 (note that we combined all matches sets)\n"
     ]
    }
   ],
   "source": [
    "print(case0[0][5], 'player 0, set 5')\n",
    "print(case0[0][30], 'player 0, set 30 (note that we combined all matches sets)')"
   ]
  },
  {
   "cell_type": "markdown",
   "id": "powered-heaven",
   "metadata": {},
   "source": [
    "## Now we want to compute 2 conditional probabilities, for each player:\n",
    "## P(F|LF) where F is missing that serve and LF is a fault on the last service (LF for last-fault). \n",
    "## And P(G|LF) : the probability of getting a fault on this serve, given that the last serve was a fault\n",
    "\n",
    "### In case0, We should recover that P(F|LF) = P(G|LF), because by design, in the mock data, we set this effect to 0.\n",
    "### in the case0p1, we should recover that P(F|LF) is 0.1 larger than P(G|LF). Because we set that the chance of going in was 10% higher if the last serve went in also.\n",
    "\n",
    "### A note on estimating conditional probabilities. To calculate P(F|LF) , we will want to select pairs of events where the first in the sequence (the last serve) was a fault -- then among those sequences, we want to count how many have the second item as a fault as well. Similarly for P(G|LF) = (number of good serves where the first serve is a fault) / (total number of sequences where the first in the sequence is a fault.)\n",
    "\n",
    "### So let's go ahead and write a function to estimate those probabilities for a give player."
   ]
  },
  {
   "cell_type": "code",
   "execution_count": 68,
   "id": "dangerous-pierre",
   "metadata": {},
   "outputs": [
    {
     "name": "stdout",
     "output_type": "stream",
     "text": [
      "{'pglg': 0.6012269938650306, 'pglf': 0.4972885032537961, 'pflg': 0.3987730061349693, 'pflf': 0.5027114967462039, 'pg': 0.5596966413867822, 'pf': 0.4403033586132178, 'e_pglg': 0.010415640338983624, 'e_pglf': 0.011612046152583436, 'e_pflg': 0.008482612250843131, 'e_pflf': 0.01167518988156778, 'e_pg': 0.007787095482585659, 'e_pf': 0.0069067724595922985}\n",
      "{'pglg': 0.6120197793837961, 'pglf': 0.4096173212487412, 'pflg': 0.38798022061620385, 'pflf': 0.5903826787512588, 'pg': 0.5249187432286024, 'pf': 0.4750812567713976, 'e_pglg': 0.010788782505654496, 'e_pglf': 0.0101551077694354, 'e_pflg': 0.008590026466821008, 'e_pflf': 0.012191641503326536, 'e_pg': 0.007541282147473393, 'e_pf': 0.007174358886735993}\n"
     ]
    }
   ],
   "source": [
    "from astropy.table import Table\n",
    "import numpy as np\n",
    "\n",
    "def estimate_conditional_probability(player_serve_data):\n",
    "    # there is a nuance here that we havent taken into account. pglg is simply more likely, because\n",
    "    # the sequence [1, 1] is more likely than the sequence [1, 0] because all these players have\n",
    "    # a higher chance of making a shot \n",
    "    num_good_with_good_last_serve = 0\n",
    "    num_good_with_bad_last_serve = 0\n",
    "    num_bad_with_bad_last_serve = 0\n",
    "    num_bad_with_good_last_serve = 0\n",
    "    total_lg = 0\n",
    "    total_lf = 0\n",
    "    for game in player_serve_data:\n",
    "        for i in range(1, len(game)):\n",
    "            if game[i-1] == 1:\n",
    "                total_lg += 1\n",
    "                if game[i] == 1:\n",
    "                    num_good_with_good_last_serve += 1\n",
    "                if game[i] == 0:\n",
    "                    num_bad_with_good_last_serve += 1\n",
    "            if game[i-1] == 0:\n",
    "                total_lf += 1\n",
    "                if game[1] == 1:\n",
    "                    num_good_with_bad_last_serve += 1\n",
    "                if game[1] == 0:\n",
    "                    num_bad_with_bad_last_serve += 1\n",
    "    # calculate the conditional probabilities from the counts.\n",
    "    pglg = num_good_with_good_last_serve / total_lg\n",
    "    pflg = num_bad_with_good_last_serve / total_lg\n",
    "    pglf = num_good_with_bad_last_serve / total_lf\n",
    "    pflf = num_bad_with_bad_last_serve / total_lf\n",
    "    pg = (num_good_with_good_last_serve + num_good_with_bad_last_serve)/ (total_lg + total_lf)\n",
    "    pf = (num_bad_with_bad_last_serve + num_bad_with_good_last_serve)/ (total_lg + total_lf)\n",
    "    # calculate the errors from simple Poisson counting statistics.\n",
    "    e_pglg = np.sqrt(num_good_with_good_last_serve) / total_lg\n",
    "    e_pflg = np.sqrt(num_bad_with_good_last_serve) / total_lg\n",
    "    e_pglf = np.sqrt(num_good_with_bad_last_serve) / total_lf\n",
    "    e_pflf = np.sqrt(num_bad_with_bad_last_serve) / total_lf\n",
    "    e_pg = np.sqrt(num_good_with_good_last_serve + num_good_with_bad_last_serve)/ (total_lg + total_lf)\n",
    "    e_pf = np.sqrt(num_bad_with_bad_last_serve + num_bad_with_good_last_serve)/ (total_lg + total_lf)\n",
    "    return {'pglg': pglg, 'pglf': pglf, 'pflg': pflg, 'pflf': pflf, 'pg': pg, 'pf': pf,\n",
    "            'e_pglg': e_pglg, 'e_pglf': e_pglf, 'e_pflg': e_pflg, 'e_pflf': e_pflf, 'e_pg': e_pg, 'e_pf': e_pf}\n",
    "\n",
    "result = estimate_conditional_probability(case0[0])\n",
    "print(result)\n",
    "result = estimate_conditional_probability(case0p1[0])\n",
    "print(result)"
   ]
  },
  {
   "cell_type": "code",
   "execution_count": 66,
   "id": "ruled-probe",
   "metadata": {},
   "outputs": [
    {
     "name": "stdout",
     "output_type": "stream",
     "text": [
      "probability of having a faulted serve, from two different estimates:\n",
      "0.456520188704686\n",
      "0.45044922406751975\n",
      "probability of having a good serve, from two different estimates:\n",
      "0.543479811295314\n",
      "0.5495507759324803\n",
      "indeed, these two agree within 0.01. The counting error is: 0.01, and so these are consistent with each other.\n"
     ]
    }
   ],
   "source": [
    "# Quick sanity check (this would be e.g. a unit test in an actual code base, but for this \n",
    "# analysis we will just run this here)\n",
    "# We want to check that the conditional probabilities add up as expected. \n",
    "# namely, is P(F) = P(F|LF)*P(LF) + P(F|LG)*P(LG) = P(F|LF)*P(F) + P(F|LG)*P(G)\n",
    "result = estimate_conditional_probability(case0p1[2])\n",
    "print('probability of having a faulted serve, from two different estimates:')\n",
    "print(result['pf'] * result['pflf'] + result['pg'] * result['pflg'])\n",
    "print(result['pf'])\n",
    "print('probability of having a good serve, from two different estimates:')\n",
    "print(result['pf'] * result['pglf'] + result['pg'] * result['pglg'])\n",
    "print(result['pg'])\n",
    "print(f'indeed, these two agree within 0.01. The counting error is: {np.round(result[\"e_pg\"], 2)}, and so these are consistent with each other.')"
   ]
  },
  {
   "cell_type": "markdown",
   "id": "dietary-browse",
   "metadata": {},
   "source": [
    "# Now we want to estimate the conditional probabilities for every player. So we will "
   ]
  },
  {
   "cell_type": "code",
   "execution_count": 56,
   "id": "canadian-rocket",
   "metadata": {},
   "outputs": [],
   "source": [
    "def estimate_conditional_probabilities_all_players(case: Data) -> Table:\n",
    "    statistics = {'player_id': [], 'pglf': [], 'pglg': []}\n",
    "    for player_id in case.player_ids:\n",
    "        result = estimate_conditional_probability(case[player_id])\n",
    "        statistics['pglf'].append(result['pglf'])\n",
    "        statistics['pglg'].append(result['pglg'])\n",
    "        statistics['player_id'].append(player_id)\n",
    "    return Table(statistics)\n",
    "\n",
    "case0_statistics = estimate_conditional_probabilities_all_players(case0)\n",
    "case0p1_statistics = estimate_conditional_probabilities_all_players(case0p1)"
   ]
  },
  {
   "cell_type": "markdown",
   "id": "brazilian-chicken",
   "metadata": {},
   "source": [
    "## And then plot the difference between P(G|LG) and P(G|LF) for every player, which by design was defined as a constant (but may not be the case with real data). Case 0 should have this value centered around 0, and case 0p1 should have this centered around 0.1"
   ]
  },
  {
   "cell_type": "code",
   "execution_count": 57,
   "id": "varying-facility",
   "metadata": {},
   "outputs": [
    {
     "name": "stdout",
     "output_type": "stream",
     "text": [
      "0.11957482044919641\n",
      "0.18320824795963475\n"
     ]
    },
    {
     "data": {
      "image/png": "[encoded data removed]",
      "text/plain": [
       "<Figure size 432x288 with 2 Axes>"
      ]
     },
     "metadata": {
      "needs_background": "light"
     },
     "output_type": "display_data"
    }
   ],
   "source": [
    "import matplotlib.pyplot as plt\n",
    "\n",
    "fig, axes = plt.subplots(1, 2)\n",
    "for i, case, label in zip([0, 1], [case0_statistics, case0p1_statistics], ['No hot hands effect', '10% hot hands']):\n",
    "    axes[i].set_title(label)\n",
    "    axes[i].scatter(case['player_id'], case['pglg'] - case['pglf'])\n",
    "    axes[i].set_ylabel('P(G|LG) - P(G|LF)')\n",
    "    axes[i].set_xlabel('player ID number')\n",
    "    print(np.mean(case['pglg'] - case['pglf']))\n",
    "    \n",
    "plt.tight_layout()\n",
    "plt.show()"
   ]
  },
  {
   "cell_type": "markdown",
   "id": "fabulous-organ",
   "metadata": {},
   "source": [
    "## OK so per player, we have single estimates that seem to indicate that there is a hot/cold hands effect in the mock data. Single values like 0.11, 0.9, ... etc.. That is good, but we can't really say anything yet. We dont have error bars on the points! So we really want an estimate of how well we know those single values. We want a posterior --> something that tells us: player 0 has a hot hands effect of 0.1 +- 0.02 . Then we can say that the hot hands effect exists with 5 sigma confidence (for that player).\n",
    "\n",
    "## To get a confidence interval, we are going to use something called bootstrap resampling. This is a way to estimate posteriors from a single set of data, provided that dataset is large enough. Because each player has about "
   ]
  },
  {
   "cell_type": "code",
   "execution_count": null,
   "id": "royal-faculty",
   "metadata": {},
   "outputs": [],
   "source": [
    "def boostrap_estimate_conditional_probabilities(player_serve_data, num_resamples=1000)\n",
    "    num_sets = len(player_serve_data)\n",
    "    indices = np.arange(num_sets)\n",
    "    pglg_samples, pglf_samples = [], []\n",
    "    for i in range(num_resamples):\n",
    "        this_sample = np.random.choice(indices, size=len(indices), replace=True)\n",
    "        player_serve_data_sample = [player_serve_data[i] for i in this_sample]\n",
    "        pglg, pglf = estimate_conditional_probability(player_serve_data_sample)\n",
    "        pglg_samples.append(pglg)\n",
    "        pglf_samples.append(pglf)"
   ]
  }
 ],
 "metadata": {
  "kernelspec": {
   "display_name": "Python 3",
   "language": "python",
   "name": "python3"
  },
  "language_info": {
   "codemirror_mode": {
    "name": "ipython",
    "version": 3
   },
   "file_extension": ".py",
   "mimetype": "text/x-python",
   "name": "python",
   "nbconvert_exporter": "python",
   "pygments_lexer": "ipython3",
   "version": "3.8.10"
  }
 },
 "nbformat": 4,
 "nbformat_minor": 5
}
