{
 "cells": [
  {
   "cell_type": "markdown",
   "id": "statutory-confidence",
   "metadata": {},
   "source": [
    "## Here we are going to transform real tennis match data into the same format as our mock data.\n",
    "## The detailed point-by-point data come from Jeff Sackmanns' Match Charting project, so I encourage anyone interested to check out that project, and even contribute. https://github.com/JeffSackmann/tennis_MatchChartingProject . A data science dive this one would not be possible without these data, which do not exist (as far as I can tell) *anywhere else* on the internet. I will be using the file, tennis_MatchChartingProject/charting-m-points.csv ,from that repo.\n",
    "\n",
    "This work is based on crowdsourced shot-by-shot professional tennis data by The Tennis Abstract Match Charting Project, and is licensed under a Creative Commons Attribution-NonCommercial-ShareAlike 4.0 International License.\n",
    "Based on a work at https://github.com/JeffSackmann/tennis_MatchChartingProject\n",
    "\n"
   ]
  },
  {
   "cell_type": "code",
   "execution_count": 9,
   "id": "severe-earthquake",
   "metadata": {},
   "outputs": [],
   "source": [
    "filepath = '/home/gmbrandt/Documents/misc_codes/tennis_MatchChartingProject/charting-m-points.csv'"
   ]
  },
  {
   "cell_type": "markdown",
   "id": "contrary-cotton",
   "metadata": {},
   "source": [
    "## These data are extremely rich. The columns 1st and 2nd contain how the entire point played out. Because we are just interested in serves, we want to transform column 1 and 2 into one single bite: a 0 or 1 if the first serve went in. \n",
    "### We need to do the following things:\n",
    "1. serve direction is given by: (4 = wide, 5 = body, 6 = down the t; http://www.tennisabstract.com/blog/2015/09/23/the-match-charting-project-quick-start-guide/ ), and the following codes: (n = net, w = wide, d = deep, x = wide and deep), indicate the type of error. So we are interested in situations where the point code is only 2 entries long: things like 4n, 5n, 5w, 6x etc...\n",
    "2. We need to identify uniquely, for each service point, who is serving. Then we simply need to group by that column later on and then save the full sequence of that persons serves.\n",
    "3. We are only going to use match data post 2015, just to keep the number of years to a minimum. Players change over time, but many will be roughly consistent over a 2-3 year period (four years is pushing it). If we go longer than that, we will have to split players into their different eras, because e.g., Federer from 2005 is not identical to Federer in 2020. "
   ]
  },
  {
   "cell_type": "code",
   "execution_count": 166,
   "id": "simplified-facility",
   "metadata": {},
   "outputs": [],
   "source": [
    "import pandas as pd\n",
    "# match_id,Pt,Set1,Set2,Gm1,Gm2,Pts,Gm#,TbSet,TB?,TBpt,Svr,Ret,Serving,1st,2nd,\n",
    "colnames = ['match_id', 'Pt', 'Pts', 'Svr','Ret','Serving','1st','2nd']\n",
    "t = pd.read_csv(filepath, usecols=colnames)"
   ]
  },
  {
   "cell_type": "code",
   "execution_count": 193,
   "id": "serial-description",
   "metadata": {},
   "outputs": [],
   "source": [
    "from astropy.table import Table \n",
    "# switch to astropy tables because of the convenient grouping functions.\n",
    "tt = Table(t.to_numpy(), names=colnames, dtype=[str, str, str, int, int, str, str, str])"
   ]
  },
  {
   "cell_type": "code",
   "execution_count": 194,
   "id": "comparative-explanation",
   "metadata": {},
   "outputs": [],
   "source": [
    "# scrub entries where the server is listed as nan -- these were likely improperly tabulated.\n",
    "tt = tt[tt['Serving'] != 'nan']"
   ]
  },
  {
   "cell_type": "code",
   "execution_count": 197,
   "id": "ceramic-karma",
   "metadata": {},
   "outputs": [],
   "source": [
    "tt['date'] = '20220213'\n",
    "for i in tt:\n",
    "    split = i['match_id'].split('-M-')\n",
    "    i['date'] = split[0]"
   ]
  },
  {
   "cell_type": "code",
   "execution_count": 198,
   "id": "chronic-zealand",
   "metadata": {},
   "outputs": [],
   "source": [
    "# sort by date.\n",
    "tt.sort('date')"
   ]
  },
  {
   "cell_type": "code",
   "execution_count": 199,
   "id": "through-playing",
   "metadata": {},
   "outputs": [],
   "source": [
    "from astropy.time import Time\n",
    "# remove everything before 2015.\n",
    "tt = tt[Time([i[:4] for i in tt['date']], format='decimalyear') > Time(2015, format='decimalyear')]"
   ]
  },
  {
   "cell_type": "code",
   "execution_count": 200,
   "id": "irish-symposium",
   "metadata": {},
   "outputs": [
    {
     "name": "stdout",
     "output_type": "stream",
     "text": [
      "10671 is about how many serves we expect from Federer in this dataset. This is a sanity check for our grouping later.\n",
      "9188 is about how many serves we expect from Djokovic in this dataset. This is a sanity check for our grouping later.\n"
     ]
    }
   ],
   "source": [
    "print(np.count_nonzero(['federer' in i['match_id'].lower() for i in tt])//2, 'is about how many serves we expect from Federer in this dataset. This is a sanity check for our grouping later.')\n",
    "print(np.count_nonzero(['djokovic' in i['match_id'].lower() for i in tt])//2, 'is about how many serves we expect from Djokovic in this dataset. This is a sanity check for our grouping later.')"
   ]
  },
  {
   "cell_type": "markdown",
   "id": "soviet-institute",
   "metadata": {},
   "source": [
    "### now for the only difficult bit. We need to uniquely identify each server in this data set. This is slightly non trivial because the full name of both players is in match_id and their initials are in 'Serving' . But the match_id is not a standard format string, and the initials are of course not unique player to player."
   ]
  },
  {
   "cell_type": "code",
   "execution_count": null,
   "id": "royal-supervisor",
   "metadata": {},
   "outputs": [],
   "source": [
    "# we may just have to do this manually for a few of the top players. Something like if 'djokovic' in match ID and 'ND' in Serving\n",
    "# and same for RF and the other top players.\n",
    "\n",
    "tt['svr_fullid'] = ' '*100\n",
    "for i in tt:\n",
    "    if i['Svr'] == 1:\n",
    "        i['svr_fullid'] = i['Serving'] + '_' + split[1].split('_')[0].lstrip('-').rstrip('-')\n",
    "    if i['Svr'] == 2:\n",
    "        i['svr_fullid'] = i['Serving'] + '_' + split[1].split('_')[-1].lstrip('-').rstrip('-')"
   ]
  },
  {
   "cell_type": "markdown",
   "id": "recreational-willow",
   "metadata": {},
   "source": [
    "## Now that that is done, we just need to identify first serve faults."
   ]
  },
  {
   "cell_type": "code",
   "execution_count": 177,
   "id": "substantial-cartridge",
   "metadata": {},
   "outputs": [],
   "source": [
    "tt['first_serve_in'] = 1\n",
    "fault_codes = ['n', 'w', 'd', 'x']\n",
    "for i in tt:\n",
    "    pt_string = i['1st']\n",
    "    pt_string = pt_string.lstrip(' ').rstrip(' ') # strip any leading or trailing zeros.\n",
    "    if len(pt_string) == 2:\n",
    "        if pt_string[1] in fault_codes:\n",
    "            i['first_serve_in'] = 0\n"
   ]
  },
  {
   "cell_type": "code",
   "execution_count": 178,
   "id": "moved-medication",
   "metadata": {},
   "outputs": [
    {
     "name": "stdout",
     "output_type": "stream",
     "text": [
      "1362\n",
      "261\n"
     ]
    }
   ],
   "source": [
    "print(len(set(tt['svr_fullid'])))\n",
    "print(len(set(tt['Serving'])))"
   ]
  },
  {
   "cell_type": "code",
   "execution_count": 201,
   "id": "shaped-first",
   "metadata": {},
   "outputs": [
    {
     "name": "stdout",
     "output_type": "stream",
     "text": [
      "243167  total serves on record\n"
     ]
    }
   ],
   "source": [
    "print(len(tt), ' total serves on record')"
   ]
  },
  {
   "cell_type": "code",
   "execution_count": 180,
   "id": "linear-suite",
   "metadata": {},
   "outputs": [],
   "source": [
    "tt = tt.group_by('svr_fullid')"
   ]
  },
  {
   "cell_type": "markdown",
   "id": "noble-living",
   "metadata": {},
   "source": [
    "## Ok, now as a check, we want to see what kind of statistics per server we have achieved. Remember we want at least a few players with 10,000 to 20,000 serves on record. Ideally about 50. Players with less than a few thousand serves on record can be scrubbed."
   ]
  },
  {
   "cell_type": "code",
   "execution_count": 181,
   "id": "pending-narrow",
   "metadata": {},
   "outputs": [
    {
     "data": {
      "image/png": "[encoded data removed]",
      "text/plain": [
       "<Figure size 720x360 with 1 Axes>"
      ]
     },
     "metadata": {
      "needs_background": "light"
     },
     "output_type": "display_data"
    }
   ],
   "source": [
    "import matplotlib.pyplot as plt\n",
    "import numpy as np\n",
    "\n",
    "serves_per_group = []\n",
    "for i in range(len(tt.groups)):\n",
    "    serves_per_group.append(len(tt.groups[i]))\n",
    "serves_per_group = np.array(serves_per_group)\n",
    "\n",
    "plt.figure(figsize=(10, 5))\n",
    "plt.scatter(np.arange(len(serves_per_group)), serves_per_group)\n",
    "plt.show()"
   ]
  },
  {
   "cell_type": "markdown",
   "id": "reduced-burden",
   "metadata": {},
   "source": [
    "## Great! We have a handful of players with > 10,000 serves on record. Let's restrict to those with > 2000, and proceed."
   ]
  },
  {
   "cell_type": "code",
   "execution_count": 182,
   "id": "forty-payment",
   "metadata": {},
   "outputs": [],
   "source": [
    "tt_interest_only = tt.groups[np.array(serves_per_group) > 2000]"
   ]
  },
  {
   "cell_type": "code",
   "execution_count": 183,
   "id": "consistent-notification",
   "metadata": {},
   "outputs": [
    {
     "name": "stdout",
     "output_type": "stream",
     "text": [
      "{'MF_Fucsovics', 'RN_Nadal', 'JS_Sinner', 'ND_Australian', 'BP_Paire', 'BC_Coric', 'ND_Djokovic', 'DSS_Schwartzman', 'NB_Basilashvili', 'GM_Monfils', 'AR_Rublev', 'KN_Nishikori', 'FF_Fognini', 'DG_Goffin', 'AB_Bedene', 'AM_Murray', 'DE_Evans', 'RH_Haase', 'ADM_Minaur', 'RN_Australian', 'ST_Tsitsipas', 'RG_Gasquet', 'RF_Federer', 'DM_Medvedev', 'AB_Bublik', 'BVD_Zandschulp', 'FAA_Aliassime', 'ADF_Fokina', 'PCB_Busta', 'TG_Griekspoor', 'SW_Wawrinka', 'GD_Dimitrov', 'NK_Kyrgios', 'PK_Kohlschreiber', 'ST_Australian', 'MB_Berrettini', 'MK_Kecmanovic', 'AZ_Zverev', 'DS_Shapovalov', 'JMD_Potro', 'JT_Tipsarevic', 'DT_Thiem', 'KMM_Maamoun', 'AK_Karatsev', 'RF_Australian', 'IK_Karlovic', 'KK_Khachanov', 'FT_Tiafoe', 'ND_US'}\n"
     ]
    }
   ],
   "source": [
    "print(set(tt_interest_only['svr_fullid']))\n",
    "print('The players we are looking at are:')"
   ]
  },
  {
   "cell_type": "code",
   "execution_count": null,
   "id": "equipped-bicycle",
   "metadata": {},
   "outputs": [],
   "source": []
  }
 ],
 "metadata": {
  "kernelspec": {
   "display_name": "Python 3",
   "language": "python",
   "name": "python3"
  },
  "language_info": {
   "codemirror_mode": {
    "name": "ipython",
    "version": 3
   },
   "file_extension": ".py",
   "mimetype": "text/x-python",
   "name": "python",
   "nbconvert_exporter": "python",
   "pygments_lexer": "ipython3",
   "version": "3.8.10"
  }
 },
 "nbformat": 4,
 "nbformat_minor": 5
}
