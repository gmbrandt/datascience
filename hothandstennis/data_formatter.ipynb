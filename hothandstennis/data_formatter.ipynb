{
 "cells": [
  {
   "cell_type": "markdown",
   "id": "caring-liverpool",
   "metadata": {},
   "source": [
    "## Here we are going to transform real tennis match data into the same format as our mock data.\n",
    "## The detailed point-by-point data come from Jeff Sackmanns' Match Charting project, so I encourage anyone interested to check out that project, and even contribute. https://github.com/JeffSackmann/tennis_MatchChartingProject . A data science dive this one would not be possible without these data, which do not exist (as far as I can tell) *anywhere else* on the internet. I will be using the file, tennis_MatchChartingProject/charting-m-points.csv ,from that repo.\n",
    "\n",
    "This work is based on crowdsourced shot-by-shot professional tennis data by The Tennis Abstract Match Charting Project, and is licensed under a Creative Commons Attribution-NonCommercial-ShareAlike 4.0 International License.\n",
    "Based on a work at https://github.com/JeffSackmann/tennis_MatchChartingProject\n",
    "\n"
   ]
  },
  {
   "cell_type": "code",
   "execution_count": 1,
   "id": "spread-solution",
   "metadata": {},
   "outputs": [],
   "source": [
    "filepath = '/home/gmbrandt/Documents/misc_codes/tennis_MatchChartingProject/charting-m-points.csv'"
   ]
  },
  {
   "cell_type": "markdown",
   "id": "settled-chapel",
   "metadata": {},
   "source": [
    "## These data are extremely rich. The columns 1st and 2nd contain how the entire point played out. Because we are just interested in serves, we want to transform column 1 and 2 into one single bite: a 0 or 1 if the first serve went in. \n",
    "### We need to do the following things:\n",
    "1. serve direction is given by: (4 = wide, 5 = body, 6 = down the t; http://www.tennisabstract.com/blog/2015/09/23/the-match-charting-project-quick-start-guide/ ), and the following codes: (n = net, w = wide, d = deep, x = wide and deep), indicate the type of error. So we are interested in situations where the point code is only 2 entries long: things like 4n, 5n, 5w, 6x etc...\n",
    "2. We need to identify uniquely, for each service point, who is serving. Then we simply need to group by that column later on and then save the full sequence of that persons serves.\n",
    "3. We are only going to use match data post 2015, just to keep the number of years to a minimum. Players change over time, but many will be roughly consistent over a 2-3 year period (four years is pushing it). If we go longer than that, we will have to split players into their different eras, because e.g., Federer from 2005 is not identical to Federer in 2020. "
   ]
  },
  {
   "cell_type": "code",
   "execution_count": 2,
   "id": "attractive-volume",
   "metadata": {},
   "outputs": [],
   "source": [
    "import pandas as pd\n",
    "# match_id,Pt,Set1,Set2,Gm1,Gm2,Pts,Gm#,TbSet,TB?,TBpt,Svr,Ret,Serving,1st,2nd,\n",
    "colnames = ['match_id', 'Pt', 'Pts', 'Gm#', 'Svr','Ret','Serving','1st','2nd']\n",
    "t = pd.read_csv(filepath, usecols=colnames)"
   ]
  },
  {
   "cell_type": "code",
   "execution_count": 3,
   "id": "heard-marking",
   "metadata": {},
   "outputs": [],
   "source": [
    "from astropy.table import Table \n",
    "# switch to astropy tables because of the convenient grouping functions.\n",
    "tt = Table(t.to_numpy(), names=colnames, dtype=[str, int, str, str, int, int, str, str, str])"
   ]
  },
  {
   "cell_type": "code",
   "execution_count": 4,
   "id": "mexican-season",
   "metadata": {},
   "outputs": [],
   "source": [
    "# scrub entries where the server is listed as nan -- these were likely improperly tabulated.\n",
    "tt = tt[tt['Serving'] != 'nan']"
   ]
  },
  {
   "cell_type": "code",
   "execution_count": 5,
   "id": "adolescent-holiday",
   "metadata": {},
   "outputs": [],
   "source": [
    "tt['date'] = '20220213'\n",
    "for i in tt:\n",
    "    split = i['match_id'].split('-M-')\n",
    "    i['date'] = split[0]"
   ]
  },
  {
   "cell_type": "code",
   "execution_count": 6,
   "id": "worse-decade",
   "metadata": {},
   "outputs": [],
   "source": [
    "from astropy.time import Time\n",
    "# remove everything before 2015.\n",
    "tt = tt[Time([i[:4] for i in tt['date']], format='decimalyear') > Time(2015, format='decimalyear')]"
   ]
  },
  {
   "cell_type": "code",
   "execution_count": 7,
   "id": "progressive-animation",
   "metadata": {},
   "outputs": [],
   "source": [
    "import numpy as np\n",
    "# Fix the Game number column Gm# . Each entry includes the game number, plus a number in paranthesis, so remove the number in paranthesis.\n",
    "tt['Gm#'] = np.array([int(i.split('(')[0].strip(' ')) for i in tt['Gm#']], dtype=int)"
   ]
  },
  {
   "cell_type": "code",
   "execution_count": 8,
   "id": "wired-strap",
   "metadata": {},
   "outputs": [
    {
     "data": {
      "text/html": [
       "<i>Table length=243167</i>\n",
       "<table id=\"table140368018433552\" class=\"table-striped table-bordered table-condensed\">\n",
       "<thead><tr><th>match_id</th><th>Pt</th><th>Pts</th><th>Gm#</th><th>Svr</th><th>Ret</th><th>Serving</th><th>1st</th><th>2nd</th><th>date</th></tr></thead>\n",
       "<thead><tr><th>str80</th><th>int64</th><th>str5</th><th>int64</th><th>int64</th><th>int64</th><th>str3</th><th>str179</th><th>str136</th><th>str8</th></tr></thead>\n",
       "<tr><td>20220213-M-Rotterdam-F-Stefanos_Tsitsipas-Felix_Auger_Aliassime</td><td>1</td><td>0-0</td><td>1</td><td>1</td><td>2</td><td>ST</td><td>6n</td><td>6d</td><td>20220213</td></tr>\n",
       "<tr><td>20220213-M-Rotterdam-F-Stefanos_Tsitsipas-Felix_Auger_Aliassime</td><td>2</td><td>0-15</td><td>1</td><td>1</td><td>2</td><td>ST</td><td>4d</td><td>5b38b39b39b37f28b39b38b39b38b27f1n@</td><td>20220213</td></tr>\n",
       "<tr><td>20220213-M-Rotterdam-F-Stefanos_Tsitsipas-Felix_Auger_Aliassime</td><td>3</td><td>15-15</td><td>1</td><td>1</td><td>2</td><td>ST</td><td>4f29f38s39f17f38w#</td><td>nan</td><td>20220213</td></tr>\n",
       "<tr><td>20220213-M-Rotterdam-F-Stefanos_Tsitsipas-Felix_Auger_Aliassime</td><td>4</td><td>30-15</td><td>1</td><td>1</td><td>2</td><td>ST</td><td>4d</td><td>5f38s2d#</td><td>20220213</td></tr>\n",
       "<tr><td>20220213-M-Rotterdam-F-Stefanos_Tsitsipas-Felix_Auger_Aliassime</td><td>5</td><td>30-30</td><td>1</td><td>1</td><td>2</td><td>ST</td><td>6n</td><td>4f18f2n@</td><td>20220213</td></tr>\n",
       "<tr><td>20220213-M-Rotterdam-F-Stefanos_Tsitsipas-Felix_Auger_Aliassime</td><td>6</td><td>30-40</td><td>1</td><td>1</td><td>2</td><td>ST</td><td>6f29f39w#</td><td>nan</td><td>20220213</td></tr>\n",
       "<tr><td>20220213-M-Rotterdam-F-Stefanos_Tsitsipas-Felix_Auger_Aliassime</td><td>7</td><td>0-0</td><td>2</td><td>2</td><td>1</td><td>FAA</td><td>4f28b38s28f+19l2d#</td><td>nan</td><td>20220213</td></tr>\n",
       "<tr><td>20220213-M-Rotterdam-F-Stefanos_Tsitsipas-Felix_Auger_Aliassime</td><td>8</td><td>15-0</td><td>2</td><td>2</td><td>1</td><td>FAA</td><td>4b39f27f18f28b28b39b2d@</td><td>nan</td><td>20220213</td></tr>\n",
       "<tr><td>20220213-M-Rotterdam-F-Stefanos_Tsitsipas-Felix_Auger_Aliassime</td><td>9</td><td>30-0</td><td>2</td><td>2</td><td>1</td><td>FAA</td><td>6x</td><td>5s38b19*</td><td>20220213</td></tr>\n",
       "<tr><td>20220213-M-Rotterdam-F-Stefanos_Tsitsipas-Felix_Auger_Aliassime</td><td>10</td><td>40-0</td><td>2</td><td>2</td><td>1</td><td>FAA</td><td>4s#</td><td>nan</td><td>20220213</td></tr>\n",
       "<tr><td>...</td><td>...</td><td>...</td><td>...</td><td>...</td><td>...</td><td>...</td><td>...</td><td>...</td><td>...</td></tr>\n",
       "<tr><td>20160104-M-Bangkok_CH-R32-Nattan_Benjasupawan-Konstantin_Kravchuk</td><td>65</td><td>0-0</td><td>12</td><td>2</td><td>1</td><td>KK</td><td>6s29f2f1f1n@</td><td>nan</td><td>20160104</td></tr>\n",
       "<tr><td>20160104-M-Bangkok_CH-R32-Nattan_Benjasupawan-Konstantin_Kravchuk</td><td>66</td><td>0-15</td><td>12</td><td>2</td><td>1</td><td>KK</td><td>4n</td><td>4b2d#</td><td>20160104</td></tr>\n",
       "<tr><td>20160104-M-Bangkok_CH-R32-Nattan_Benjasupawan-Konstantin_Kravchuk</td><td>67</td><td>15-15</td><td>12</td><td>2</td><td>1</td><td>KK</td><td>4f18*</td><td>nan</td><td>20160104</td></tr>\n",
       "<tr><td>20160104-M-Bangkok_CH-R32-Nattan_Benjasupawan-Konstantin_Kravchuk</td><td>68</td><td>15-30</td><td>12</td><td>2</td><td>1</td><td>KK</td><td>5b39b2f1f1f2b2d@</td><td>nan</td><td>20160104</td></tr>\n",
       "<tr><td>20160104-M-Bangkok_CH-R32-Nattan_Benjasupawan-Konstantin_Kravchuk</td><td>69</td><td>15-40</td><td>12</td><td>2</td><td>1</td><td>KK</td><td>6w</td><td>6b28f3*</td><td>20160104</td></tr>\n",
       "<tr><td>20160104-M-Bangkok_CH-R32-Nattan_Benjasupawan-Konstantin_Kravchuk</td><td>70</td><td>30-40</td><td>12</td><td>2</td><td>1</td><td>KK</td><td>6f37b3b1n@</td><td>nan</td><td>20160104</td></tr>\n",
       "<tr><td>20160104-M-Bangkok_CH-R32-Nattan_Benjasupawan-Konstantin_Kravchuk</td><td>71</td><td>40-40</td><td>12</td><td>2</td><td>1</td><td>KK</td><td>4n</td><td>6b28b2f1d@</td><td>20160104</td></tr>\n",
       "<tr><td>20160104-M-Bangkok_CH-R32-Nattan_Benjasupawan-Konstantin_Kravchuk</td><td>72</td><td>AD-40</td><td>12</td><td>2</td><td>1</td><td>KK</td><td>6d</td><td>5+b28z2l2*</td><td>20160104</td></tr>\n",
       "<tr><td>20160104-M-Bangkok_CH-R32-Nattan_Benjasupawan-Konstantin_Kravchuk</td><td>73</td><td>40-40</td><td>12</td><td>2</td><td>1</td><td>KK</td><td>4f28f3b2f2b2b2f1w@</td><td>nan</td><td>20160104</td></tr>\n",
       "<tr><td>20160104-M-Bangkok_CH-R32-Nattan_Benjasupawan-Konstantin_Kravchuk</td><td>74</td><td>AD-40</td><td>12</td><td>2</td><td>1</td><td>KK</td><td>4d</td><td>6f37b1*</td><td>20160104</td></tr>\n",
       "</table>"
      ],
      "text/plain": [
       "<Table length=243167>\n",
       "                             match_id                             ...   date  \n",
       "                              str80                               ...   str8  \n",
       "----------------------------------------------------------------- ... --------\n",
       "  20220213-M-Rotterdam-F-Stefanos_Tsitsipas-Felix_Auger_Aliassime ... 20220213\n",
       "  20220213-M-Rotterdam-F-Stefanos_Tsitsipas-Felix_Auger_Aliassime ... 20220213\n",
       "  20220213-M-Rotterdam-F-Stefanos_Tsitsipas-Felix_Auger_Aliassime ... 20220213\n",
       "  20220213-M-Rotterdam-F-Stefanos_Tsitsipas-Felix_Auger_Aliassime ... 20220213\n",
       "  20220213-M-Rotterdam-F-Stefanos_Tsitsipas-Felix_Auger_Aliassime ... 20220213\n",
       "  20220213-M-Rotterdam-F-Stefanos_Tsitsipas-Felix_Auger_Aliassime ... 20220213\n",
       "  20220213-M-Rotterdam-F-Stefanos_Tsitsipas-Felix_Auger_Aliassime ... 20220213\n",
       "  20220213-M-Rotterdam-F-Stefanos_Tsitsipas-Felix_Auger_Aliassime ... 20220213\n",
       "  20220213-M-Rotterdam-F-Stefanos_Tsitsipas-Felix_Auger_Aliassime ... 20220213\n",
       "  20220213-M-Rotterdam-F-Stefanos_Tsitsipas-Felix_Auger_Aliassime ... 20220213\n",
       "                                                              ... ...      ...\n",
       "20160104-M-Bangkok_CH-R32-Nattan_Benjasupawan-Konstantin_Kravchuk ... 20160104\n",
       "20160104-M-Bangkok_CH-R32-Nattan_Benjasupawan-Konstantin_Kravchuk ... 20160104\n",
       "20160104-M-Bangkok_CH-R32-Nattan_Benjasupawan-Konstantin_Kravchuk ... 20160104\n",
       "20160104-M-Bangkok_CH-R32-Nattan_Benjasupawan-Konstantin_Kravchuk ... 20160104\n",
       "20160104-M-Bangkok_CH-R32-Nattan_Benjasupawan-Konstantin_Kravchuk ... 20160104\n",
       "20160104-M-Bangkok_CH-R32-Nattan_Benjasupawan-Konstantin_Kravchuk ... 20160104\n",
       "20160104-M-Bangkok_CH-R32-Nattan_Benjasupawan-Konstantin_Kravchuk ... 20160104\n",
       "20160104-M-Bangkok_CH-R32-Nattan_Benjasupawan-Konstantin_Kravchuk ... 20160104\n",
       "20160104-M-Bangkok_CH-R32-Nattan_Benjasupawan-Konstantin_Kravchuk ... 20160104\n",
       "20160104-M-Bangkok_CH-R32-Nattan_Benjasupawan-Konstantin_Kravchuk ... 20160104"
      ]
     },
     "execution_count": 8,
     "metadata": {},
     "output_type": "execute_result"
    }
   ],
   "source": [
    "tt"
   ]
  },
  {
   "cell_type": "code",
   "execution_count": 9,
   "id": "inappropriate-brass",
   "metadata": {},
   "outputs": [
    {
     "name": "stdout",
     "output_type": "stream",
     "text": [
      "10671 is about how many serves we expect from Federer in this dataset. This is a sanity check for our grouping later.\n",
      "9188 is about how many serves we expect from Djokovic in this dataset. This is a sanity check for our grouping later.\n"
     ]
    }
   ],
   "source": [
    "print(np.count_nonzero(['federer' in i['match_id'].lower() for i in tt])//2, 'is about how many serves we expect from Federer in this dataset. This is a sanity check for our grouping later.')\n",
    "print(np.count_nonzero(['djokovic' in i['match_id'].lower() for i in tt])//2, 'is about how many serves we expect from Djokovic in this dataset. This is a sanity check for our grouping later.')"
   ]
  },
  {
   "cell_type": "markdown",
   "id": "welcome-lucas",
   "metadata": {},
   "source": [
    "### now for the only difficult bit. We need to uniquely identify each server in this data set. This is slightly non trivial because the full name of both players is in match_id and their initials are in 'Serving' . But the match_id is not a standard format string, and the initials are of course not unique player to player.\n",
    "\n",
    "### We are going to take a semi-hardcoded approach to this, looking for just the top 20 players only and essentially cleaning up the dataset. For the other players, we will just label them as unknown for now."
   ]
  },
  {
   "cell_type": "code",
   "execution_count": 10,
   "id": "automated-intent",
   "metadata": {},
   "outputs": [],
   "source": [
    "from astropy.table import vstack\n",
    "# pull the top 20 players for 2020 and 2015 from https://www.ultimatetennisstatistics.com/rankingsTable\n",
    "rank_2020, rank_2015 = Table.read('data/Rankings_1.csv'), Table.read('data/Rankings_3.csv')\n",
    "rank_concat = vstack([rank_2020, rank_2015])\n",
    "# create a dict that gives, per player, the first and last name and their initials.\n",
    "players_of_interest = {name: {} for name in set(rank_concat['name'])}\n",
    "for key, item in players_of_interest.items():\n",
    "    item['first'] = key.split(' ')[0]\n",
    "    item['last'] = key.split(' ')[-1]\n",
    "    item['initials'] = \"\".join([i[0] for i in key.split(' ')])\n"
   ]
  },
  {
   "cell_type": "code",
   "execution_count": 11,
   "id": "sustainable-breed",
   "metadata": {},
   "outputs": [
    {
     "name": "stdout",
     "output_type": "stream",
     "text": [
      "33  players will be searched for in our match data.\n",
      "33\n",
      "33\n"
     ]
    }
   ],
   "source": [
    "#print(players_of_interest)\n",
    "print(len(players_of_interest), ' players will be searched for in our match data.')\n",
    "print(len(set([p['initials'] for p in players_of_interest.values()])))\n",
    "print(len(set([p['last'] for p in players_of_interest.values()])))"
   ]
  },
  {
   "cell_type": "code",
   "execution_count": 12,
   "id": "induced-columbia",
   "metadata": {},
   "outputs": [],
   "source": [
    "def likely_player_name(players_of_interest, database_entry):\n",
    "    match_id, svr_initials = database_entry['match_id'], database_entry['Serving']\n",
    "    likely_player = None\n",
    "    for player, vals in players_of_interest.items():\n",
    "        if vals['last'].lower() in match_id.lower():\n",
    "            if vals['initials'][0] in svr_initials and vals['initials'][-1] in svr_initials:\n",
    "                # this second check correctly assigns who is currently serving in that point.\n",
    "                likely_player = player\n",
    "        elif vals['first'].lower() in match_id.lower() and vals['initials'] in svr_initials:\n",
    "            likely_player = player\n",
    "    return likely_player\n",
    "\n",
    "tt['svr_fullid'] = ' '*100\n",
    "for i in tt:\n",
    "    svr_fullid = likely_player_name(players_of_interest, i)        \n",
    "    if svr_fullid is None:\n",
    "        svr_fullid = 'uncertain'\n",
    "        \"\"\"\n",
    "        if i['Svr'] == 1:\n",
    "            svr_fullid = i['Serving'] + '_' + split[1].split('_')[0].lstrip('-').rstrip('-')\n",
    "        elif i['Svr'] == 2:\n",
    "            svr_fullid = i['Serving'] + '_' + split[1].split('_')[-1].lstrip('-').rstrip('-')\n",
    "        \"\"\"\n",
    "    i['svr_fullid'] = svr_fullid\n",
    "\n",
    "    \n",
    "tt = tt[tt['svr_fullid'] != 'uncertain']"
   ]
  },
  {
   "cell_type": "markdown",
   "id": "coordinate-district",
   "metadata": {},
   "source": [
    "## Now that that is done, we just need to identify first serve faults."
   ]
  },
  {
   "cell_type": "code",
   "execution_count": 13,
   "id": "ordered-latitude",
   "metadata": {},
   "outputs": [],
   "source": [
    "tt['first_serve_in'] = 1\n",
    "fault_codes = ['n', 'w', 'd', 'x']\n",
    "for i in tt:\n",
    "    pt_string = i['1st']\n",
    "    pt_string = pt_string.lstrip(' ').rstrip(' ') # strip any leading or trailing zeros.\n",
    "    if len(pt_string) == 2:\n",
    "        if pt_string[1] in fault_codes:\n",
    "            i['first_serve_in'] = 0\n"
   ]
  },
  {
   "cell_type": "code",
   "execution_count": 14,
   "id": "blind-stress",
   "metadata": {},
   "outputs": [
    {
     "name": "stdout",
     "output_type": "stream",
     "text": [
      "33\n",
      "43\n"
     ]
    }
   ],
   "source": [
    "print(len(set(tt['svr_fullid'])))\n",
    "print(len(set(tt['Serving'])))"
   ]
  },
  {
   "cell_type": "code",
   "execution_count": 15,
   "id": "small-connectivity",
   "metadata": {},
   "outputs": [
    {
     "name": "stdout",
     "output_type": "stream",
     "text": [
      "110962  total serves on record\n"
     ]
    }
   ],
   "source": [
    "print(len(tt), ' total serves on record')"
   ]
  },
  {
   "cell_type": "code",
   "execution_count": 16,
   "id": "surface-firewall",
   "metadata": {},
   "outputs": [],
   "source": [
    "tt = tt.group_by('svr_fullid')"
   ]
  },
  {
   "cell_type": "markdown",
   "id": "municipal-salad",
   "metadata": {},
   "source": [
    "## Ok, now as a check, we want to see what kind of statistics per player we have achieved. Remember we want at least a few players with 10,000 to 20,000 serves on record. Ideally about 50. Players with less than a few thousand serves on record can be scrubbed."
   ]
  },
  {
   "cell_type": "code",
   "execution_count": 17,
   "id": "owned-pittsburgh",
   "metadata": {},
   "outputs": [
    {
     "name": "stdout",
     "output_type": "stream",
     "text": [
      "Roger Federer  has the most serves in this database, at 10127\n",
      "This number agrees with our rough estimate earlier, so we can be reasonably confident that we grabbed all of his points correctly.\n"
     ]
    },
    {
     "data": {
      "image/png": "[encoded data removed]",
      "text/plain": [
       "<Figure size 720x360 with 1 Axes>"
      ]
     },
     "metadata": {
      "needs_background": "light"
     },
     "output_type": "display_data"
    }
   ],
   "source": [
    "import matplotlib.pyplot as plt\n",
    "import numpy as np\n",
    "\n",
    "serves_per_group = []\n",
    "for i in range(len(tt.groups)):\n",
    "    serves_per_group.append(len(tt.groups[i]))\n",
    "serves_per_group = np.array(serves_per_group)\n",
    "\n",
    "print(tt.groups[np.argmax(serves_per_group)]['svr_fullid'][0], f' has the most serves in this database, at {np.max(serves_per_group)}')\n",
    "print('This number agrees with our rough estimate earlier, so we can be reasonably confident that we grabbed all of his points correctly.')\n",
    "\n",
    "plt.figure(figsize=(10, 5))\n",
    "plt.scatter(np.arange(len(serves_per_group)), serves_per_group)\n",
    "plt.show()"
   ]
  },
  {
   "cell_type": "markdown",
   "id": "pursuant-attack",
   "metadata": {},
   "source": [
    "## Great! We have a handful of players with > 10,000 serves on record. Let's restrict to those with > 1000, and proceed."
   ]
  },
  {
   "cell_type": "code",
   "execution_count": 18,
   "id": "joined-oriental",
   "metadata": {},
   "outputs": [],
   "source": [
    "tt_interest_only = tt.groups[np.array(serves_per_group) > 1000]"
   ]
  },
  {
   "cell_type": "code",
   "execution_count": 19,
   "id": "charged-senegal",
   "metadata": {},
   "outputs": [
    {
     "name": "stdout",
     "output_type": "stream",
     "text": [
      "{'Grigor Dimitrov', 'Jo Wilfried Tsonga', 'David Goffin', 'Marin Cilic', 'Stan Wawrinka', 'Stefanos Tsitsipas', 'Rafael Nadal', 'Richard Gasquet', 'Milos Raonic', 'Roberto Bautista Agut', 'Karen Khachanov', 'Roger Federer', 'Andrey Rublev', 'John Isner', 'Matteo Berrettini', 'Alexander Zverev', 'Feliciano Lopez', 'Daniil Medvedev', 'David Ferrer', 'Gael Monfils', 'Novak Djokovic', 'Pablo Carreno Busta', 'Tomas Berdych', 'Dominic Thiem', 'Diego Sebastian Schwartzman', 'Kevin Anderson', 'Benoit Paire', 'Gilles Simon', 'Fabio Fognini', 'Kei Nishikori', 'Denis Shapovalov', 'Andy Murray'}\n",
      "The players we are looking at are:\n"
     ]
    }
   ],
   "source": [
    "print(set(tt_interest_only['svr_fullid']))\n",
    "print('The players we are looking at are:')"
   ]
  },
  {
   "cell_type": "markdown",
   "id": "nasty-morris",
   "metadata": {},
   "source": [
    "###  Now we are going to look at each subgroup of players, group by match_id, then sort by point number and save the first_serve_in to a dict, breaking it up by game. Then we can write it out in exactly the same way as our mock data. "
   ]
  },
  {
   "cell_type": "code",
   "execution_count": 20,
   "id": "affected-church",
   "metadata": {},
   "outputs": [],
   "source": [
    "import json\n",
    "\n",
    "class Data(object):\n",
    "    def __init__(self, raw_match_data):\n",
    "        self.serve_data = self.init_serve_data(raw_match_data)\n",
    "\n",
    "    def init_serve_data(self, raw_match_data):\n",
    "        player_ids = set(raw_match_data['svr_fullid'])\n",
    "        serve_data = {}\n",
    "        for player_id in player_ids:\n",
    "            serve_data_this_player = []\n",
    "            match_data_this_player = raw_match_data[raw_match_data['svr_fullid'] == player_id]\n",
    "            match_data_this_player = match_data_this_player.group_by('match_id')\n",
    "            for match in match_data_this_player.groups:\n",
    "                games = match.group_by('Gm#')\n",
    "                for game in games.groups:\n",
    "                    game.sort('Pt') # ensure that the points are time-ordered\n",
    "                    serve_data_this_player.append(game['first_serve_in'].data)\n",
    "            serve_data[player_id] = serve_data_this_player\n",
    "        \n",
    "        return serve_data\n",
    "    \n",
    "    def write(self, path):\n",
    "        # save the serve_data dictionary to disc.\n",
    "        # convert the data to json serializable ints and lists. Json is human readable and wont restrict other people\n",
    "        # from using the data, compared to if we wrote out a pickled object.\n",
    "        for i in self.serve_data.keys():\n",
    "            self.serve_data[i] = [[int(kk) for kk in list(j)] for j in self.serve_data[i]]\n",
    "        with open(path, \"w\") as file:\n",
    "            json.dump(self.serve_data, file)\n",
    "            \n",
    "\n",
    "real_data = Data(tt_interest_only)"
   ]
  },
  {
   "cell_type": "code",
   "execution_count": 21,
   "id": "disturbed-oriental",
   "metadata": {},
   "outputs": [],
   "source": [
    "real_data.write('formatted_data/first_serve_fault_data.json')"
   ]
  },
  {
   "cell_type": "markdown",
   "id": "favorite-deficit",
   "metadata": {},
   "source": [
    "## Woo! OK we are done. Now onto hot_hands_analysis_realdata.ipynb!"
   ]
  },
  {
   "cell_type": "code",
   "execution_count": null,
   "id": "massive-density",
   "metadata": {},
   "outputs": [],
   "source": []
  }
 ],
 "metadata": {
  "kernelspec": {
   "display_name": "Python 3",
   "language": "python",
   "name": "python3"
  },
  "language_info": {
   "codemirror_mode": {
    "name": "ipython",
    "version": 3
   },
   "file_extension": ".py",
   "mimetype": "text/x-python",
   "name": "python",
   "nbconvert_exporter": "python",
   "pygments_lexer": "ipython3",
   "version": "3.8.10"
  }
 },
 "nbformat": 4,
 "nbformat_minor": 5
}
